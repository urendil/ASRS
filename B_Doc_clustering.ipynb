{
 "cells": [
  {
   "cell_type": "markdown",
   "metadata": {},
   "source": [
    "# Notebook B : Document clustering and comparaison\n",
    "\n",
    "Began 21 May 2020 by Amaury de Barbuat from ECL\n",
    "\n",
    "Updated by William Riou from ENSTA PARIS"
   ]
  },
  {
   "cell_type": "markdown",
   "metadata": {},
   "source": [
    "## 0- Intro\n",
    "\n",
    "First part is for clustering previous doc vectors and computing their centroid vector\n",
    "\n",
    "\n",
    "Second part is for testing whether a new document belongs to a cluster or is a new type of doc"
   ]
  },
  {
   "cell_type": "markdown",
   "metadata": {},
   "source": [
    "## 1- Clustering and centroids computation\n",
    "\n",
    "'Notebook A' has provided a vector for each document, now we want to make clusters of them. To do so we will look for the right number of clusters to ask for with k means method. Then we will compute each cluster's centroid."
   ]
  },
  {
   "cell_type": "code",
   "execution_count": 1,
   "metadata": {},
   "outputs": [],
   "source": [
    "# load vectors in txt file\n",
    "# put them in the right format\n",
    "# do clustering with k means\n",
    "# evaluate our clusters with a score\n",
    "# compute centroids of the clusters"
   ]
  },
  {
   "cell_type": "markdown",
   "metadata": {},
   "source": [
    "### 11- Creating list of report vectors"
   ]
  },
  {
   "cell_type": "code",
   "execution_count": 2,
   "metadata": {},
   "outputs": [],
   "source": [
    "def w2vreports_to_list_of_report_vectors(filename):\n",
    "\n",
    "    file = open(filename, \"r\")\n",
    "    lines = file.readlines()\n",
    "    file.close()\n",
    "\n",
    "    report_vectors = [] # will contain every vectors as sublists e.g. [[0.13, ..., -0.87], [-0.45, ..., 0.02], ...]\n",
    "\n",
    "    for line in lines :\n",
    "        line = line.split() # turn into list each line, they contain the word and its n dimensions\n",
    "        report_vector = [float(i) for i in line]\n",
    "        report_vectors.append(report_vector)\n",
    "    \n",
    "    return report_vectors"
   ]
  },
  {
   "cell_type": "code",
   "execution_count": 3,
   "metadata": {},
   "outputs": [],
   "source": [
    "report_vectors = w2vreports_to_list_of_report_vectors('w2v_doc_vectors_57_100d_5e.txt')"
   ]
  },
  {
   "cell_type": "markdown",
   "metadata": {},
   "source": [
    "### 12- Document vector K-means algorithm"
   ]
  },
  {
   "cell_type": "code",
   "execution_count": 4,
   "metadata": {},
   "outputs": [],
   "source": [
    "# entry : matrix of doc vectors (each line is a vector) and number of desired clusters\n",
    "\n",
    "# outputs :\n",
    "# labels : list of cluster numbers corresponding to the inputs\n",
    "# centroids : vectors which point the center of each cluster\n",
    "\n",
    "def kmeans(report_vectors, num_clusters, num_runs, max_iterations):\n",
    "\n",
    "    from sklearn import cluster\n",
    "    from sklearn import metrics\n",
    "    m=num_clusters\n",
    "    n=num_runs # default=10\n",
    "    p=max_iterations # default=300\n",
    "    kmeans = cluster.KMeans(n_clusters=m, n_init=n, max_iter=p)\n",
    "    kmeans.fit(report_vectors)\n",
    "\n",
    "    labels = kmeans.labels_\n",
    "    centroids = kmeans.cluster_centers_\n",
    "    n_iterations = kmeans.n_iter_\n",
    "    inertia = kmeans.inertia_\n",
    "    \n",
    "    return (labels, centroids, n_iterations, inertia)"
   ]
  },
  {
   "cell_type": "code",
   "execution_count": 5,
   "metadata": {},
   "outputs": [],
   "source": [
    "labels, centroids, n_iterations, inertia = kmeans(report_vectors,57,10,300)"
   ]
  },
  {
   "cell_type": "markdown",
   "metadata": {},
   "source": [
    "### 13- Store labels and centroids created"
   ]
  },
  {
   "cell_type": "code",
   "execution_count": 6,
   "metadata": {},
   "outputs": [],
   "source": [
    "def store_labels(entry_list, output_filename):\n",
    "    \n",
    "    MyFile=open(output_filename,'w')\n",
    "\n",
    "    for e in entry_list:\n",
    "        MyFile.write(str(e)+'\\n')\n",
    "        \n",
    "    MyFile.close()"
   ]
  },
  {
   "cell_type": "code",
   "execution_count": 7,
   "metadata": {},
   "outputs": [],
   "source": [
    "store_labels(labels, 'labels_57_100d_5e.txt')"
   ]
  },
  {
   "cell_type": "code",
   "execution_count": 8,
   "metadata": {},
   "outputs": [],
   "source": [
    "def store_centroids(entry_list, output_filename):\n",
    "    \n",
    "    MyFile=open(output_filename,'w')\n",
    "\n",
    "    for e in entry_list:\n",
    "        e = e.tolist()\n",
    "        for i in range(len(e)):\n",
    "            MyFile.write(str(e[i])+' ')\n",
    "        MyFile.write('\\n')\n",
    "        \n",
    "    MyFile.close()"
   ]
  },
  {
   "cell_type": "code",
   "execution_count": 9,
   "metadata": {},
   "outputs": [],
   "source": [
    "store_centroids(centroids, 'centroids_57_100d_5e.txt')"
   ]
  },
  {
   "cell_type": "markdown",
   "metadata": {},
   "source": [
    "### 14- Study intra-cluster quality"
   ]
  },
  {
   "cell_type": "code",
   "execution_count": 10,
   "metadata": {},
   "outputs": [],
   "source": [
    "def find_lowest_similarity_in_a_cluster(label_of_studied_cluster, labels, centroids, report_vectors):\n",
    "    # get vector members of our new report closest cluster\n",
    "    cluster_members=[]\n",
    "    for i in range (len(labels)):\n",
    "        if labels[i]==label_of_studied_cluster:\n",
    "            cluster_members.append(report_vectors[i])\n",
    "\n",
    "    # list of distances between the centroid and vectors of the cluster\n",
    "    from sklearn.metrics.pairwise import cosine_similarity\n",
    "    similarities=[]\n",
    "    cluster_center=centroids[label_of_studied_cluster]\n",
    "    for e in cluster_members:\n",
    "        similarities.append(cosine_similarity([e], [cluster_center])[0][0])\n",
    "\n",
    "    # find the lowest similarity score inside the cluster\n",
    "    min_sim = min(similarities)\n",
    "    return min_sim"
   ]
  },
  {
   "cell_type": "code",
   "execution_count": 11,
   "metadata": {},
   "outputs": [],
   "source": [
    "def intra_cluster_check(labels, centroids, report_vectors):\n",
    "    T=[]\n",
    "    for i in range (max(labels)+1):\n",
    "        lowest_sim = find_lowest_similarity_in_a_cluster(i, labels, centroids, report_vectors)\n",
    "        T.append(lowest_sim)\n",
    "    return T"
   ]
  },
  {
   "cell_type": "code",
   "execution_count": 12,
   "metadata": {},
   "outputs": [],
   "source": [
    "def evaluate_lowesim(lowesim):\n",
    "    L1, L2, L3, L4 = [], [], [], []\n",
    "    n=len(lowesim)\n",
    "    for e in lowesim:\n",
    "        if 0.90<e:\n",
    "            L1.append(e)\n",
    "        elif 0.80<e<=0.90:\n",
    "            L2.append(e)\n",
    "        elif 0.70<e<=0.80:\n",
    "            L3.append(e)\n",
    "        elif 0.60<e<=0.70:\n",
    "            L4.append(e)\n",
    "    print(len(L4)/n, len(L3)/n, len(L2)/n, len(L1)/n)\n",
    "    print(L4)"
   ]
  },
  {
   "cell_type": "code",
   "execution_count": 13,
   "metadata": {},
   "outputs": [],
   "source": [
    "lowesim = intra_cluster_check(labels, centroids, report_vectors)"
   ]
  },
  {
   "cell_type": "code",
   "execution_count": 14,
   "metadata": {},
   "outputs": [
    {
     "name": "stdout",
     "output_type": "stream",
     "text": [
      "0.0 0.0 0.0 1.0\n",
      "[]\n"
     ]
    }
   ],
   "source": [
    "evaluate_lowesim(lowesim)"
   ]
  },
  {
   "cell_type": "markdown",
   "metadata": {},
   "source": [
    "### 15- Study inter-cluster quality"
   ]
  },
  {
   "cell_type": "code",
   "execution_count": 15,
   "metadata": {},
   "outputs": [],
   "source": [
    "def inter_cluster_check(report_vectors, labels):\n",
    "    \n",
    "    from sklearn.metrics import silhouette_score\n",
    "    score = silhouette_score(report_vectors, labels)\n",
    "    print(score)"
   ]
  },
  {
   "cell_type": "code",
   "execution_count": 16,
   "metadata": {},
   "outputs": [
    {
     "name": "stdout",
     "output_type": "stream",
     "text": [
      "0.20655739258237144\n"
     ]
    }
   ],
   "source": [
    "inter_cluster_check(report_vectors, labels)"
   ]
  },
  {
   "cell_type": "markdown",
   "metadata": {},
   "source": [
    "### 16- Evaluate clustering quality"
   ]
  },
  {
   "cell_type": "code",
   "execution_count": 19,
   "metadata": {},
   "outputs": [],
   "source": [
    "# entries : vectors and their associated cluster labels\n",
    "# output : davies_bouldin_score (close to 0 means good clustering quality in terms of separation and consistency)\n",
    "\n",
    "def evaluate_clustering_quality(report_vectors, labels):\n",
    "    \n",
    "    from sklearn.metrics import davies_bouldin_score\n",
    "    score = davies_bouldin_score(report_vectors, labels)\n",
    "    print(score)"
   ]
  },
  {
   "cell_type": "code",
   "execution_count": 20,
   "metadata": {},
   "outputs": [
    {
     "name": "stdout",
     "output_type": "stream",
     "text": [
      "0.9863186696107779\n"
     ]
    }
   ],
   "source": [
    "evaluate_clustering_quality(report_vectors, labels)"
   ]
  },
  {
   "cell_type": "code",
   "execution_count": 21,
   "metadata": {},
   "outputs": [
    {
     "name": "stdout",
     "output_type": "stream",
     "text": [
      "0.010466043244516356\n",
      "0.0 0.0 0.0 1.0\n",
      "[]\n",
      "0.07263364746416134\n",
      "0.3374740256381564\n"
     ]
    }
   ],
   "source": [
    "labels, centroids, n_iterations, inertia = kmeans(report_vectors, 300, 40, 50)\n",
    "print(inertia)\n",
    "lowesim = intra_cluster_check(labels, centroids, report_vectors)\n",
    "evaluate_lowesim(lowesim)\n",
    "inter_cluster_check(report_vectors, labels)\n",
    "evaluate_clustering_quality(report_vectors, labels)"
   ]
  },
  {
   "cell_type": "code",
   "execution_count": 22,
   "metadata": {},
   "outputs": [
    {
     "name": "stdout",
     "output_type": "stream",
     "text": [
      "2.5809598610879676\n",
      "0.0 0.0 0.0 1.0\n",
      "[]\n",
      "0.4392108306272217\n",
      "0.8741339787439952\n"
     ]
    }
   ],
   "source": [
    "labels, centroids, n_iterations, inertia = kmeans(report_vectors, 2, 40, 50)\n",
    "print(inertia)\n",
    "lowesim = intra_cluster_check(labels, centroids, report_vectors)\n",
    "evaluate_lowesim(lowesim)\n",
    "inter_cluster_check(report_vectors, labels)\n",
    "evaluate_clustering_quality(report_vectors, labels)"
   ]
  },
  {
   "cell_type": "markdown",
   "metadata": {},
   "source": [
    "### 17- Number of clusters optimization"
   ]
  },
  {
   "cell_type": "code",
   "execution_count": 23,
   "metadata": {},
   "outputs": [],
   "source": [
    "# entry :  txt file of doc vectors in w2v format\n",
    "# output : draw graph and give the min of it\n",
    "\n",
    "def find_right_number_of_clusters(filename, start_num_clusters, end_num_clusters): # start_num_clusters >= 2\n",
    "    \n",
    "    # import useful libraries\n",
    "    from sklearn.metrics import davies_bouldin_score\n",
    "    import matplotlib.pyplot as plt\n",
    "    \n",
    "    # create lists of vectors\n",
    "    report_vectors = w2vreports_to_list_of_report_vectors(filename)\n",
    "    \n",
    "    # iterate over the number of clusters to determine which number gets the best score in the end\n",
    "    X=[k for k in range (start_num_clusters, end_num_clusters+1, 50)]\n",
    "    \n",
    "    # build a list of scores for each number of clusters\n",
    "    Y=[]\n",
    "    \n",
    "    for i in X:\n",
    "        \n",
    "        # build the clusters\n",
    "        labels, centroids, n_iterations, inertia = kmeans(report_vectors, i, 10, 10)\n",
    "        \n",
    "        # evaluate those clusters\n",
    "        #score = davies_bouldin_score(report_vectors, labels)\n",
    "        score = inertia\n",
    "        \n",
    "        Y.append(score)\n",
    "    \n",
    "    if len(X) >= 2 :\n",
    "        plt.plot(X, Y)\n",
    "        plt.ylabel(\"Score\")\n",
    "        plt.xlabel(\"Number of clusters\")\n",
    "        plt.show()\n",
    "    \n",
    "    m = min(Y)\n",
    "    m_ind = Y.index(m)\n",
    "    n = X[m_ind]\n",
    "    \n",
    "    print ('minimum davies bouldin score : ', m) \n",
    "    print('corresponding number of clusters : ', n)"
   ]
  },
  {
   "cell_type": "code",
   "execution_count": 24,
   "metadata": {},
   "outputs": [
    {
     "data": {
      "image/png": "[encoded data removed]",
      "text/plain": [
       "<Figure size 432x288 with 1 Axes>"
      ]
     },
     "metadata": {
      "needs_background": "light"
     },
     "output_type": "display_data"
    },
    {
     "name": "stdout",
     "output_type": "stream",
     "text": [
      "minimum davies bouldin score :  0.23409142675550443\n",
      "corresponding number of clusters :  52\n"
     ]
    }
   ],
   "source": [
    "find_right_number_of_clusters('w2v_doc_vectors_57_100d_5e.txt', 2, 100)"
   ]
  },
  {
   "cell_type": "code",
   "execution_count": 29,
   "metadata": {},
   "outputs": [
    {
     "data": {
      "image/png": "[encoded data removed]",
      "text/plain": [
       "<Figure size 432x288 with 1 Axes>"
      ]
     },
     "metadata": {
      "needs_background": "light"
     },
     "output_type": "display_data"
    },
    {
     "name": "stdout",
     "output_type": "stream",
     "text": [
      "minimum davies bouldin score :  0.021880968632083816\n",
      "corresponding number of clusters :  255\n"
     ]
    }
   ],
   "source": [
    "find_right_number_of_clusters('w2v_doc_vectors_57_100d_5e.txt', 5, 300)"
   ]
  },
  {
   "cell_type": "markdown",
   "metadata": {},
   "source": [
    "We can assess that a good number of clusters would be around 50. After more that 50 clusters, the score doesn't change so much."
   ]
  },
  {
   "cell_type": "markdown",
   "metadata": {},
   "source": [
    "## 2- GMM algorithm method"
   ]
  },
  {
   "cell_type": "markdown",
   "metadata": {},
   "source": [
    "Considering the K-means algorithm, we create clusters gathering around centroids. In that case, the points are within the same radius. We could improve the intra-cluster quality with a non-constant variance cluster called the Gaussian Mixture Method or GMM to fit reports to topics"
   ]
  },
  {
   "cell_type": "code",
   "execution_count": 134,
   "metadata": {},
   "outputs": [
    {
     "ename": "AttributeError",
     "evalue": "'list' object has no attribute 'load'",
     "output_type": "error",
     "traceback": [
      "\u001b[0;31m---------------------------------------------------------------------------\u001b[0m",
      "\u001b[0;31mAttributeError\u001b[0m                            Traceback (most recent call last)",
      "\u001b[0;32m<ipython-input-134-058daec289c4>\u001b[0m in \u001b[0;36m<module>\u001b[0;34m\u001b[0m\n\u001b[1;32m     13\u001b[0m \u001b[0;34m\u001b[0m\u001b[0m\n\u001b[1;32m     14\u001b[0m \u001b[0;31m#dataset=pd.read_csv('ASRS0.csv',sep=',')['CONTENT']\u001b[0m\u001b[0;34m\u001b[0m\u001b[0;34m\u001b[0m\u001b[0;34m\u001b[0m\u001b[0m\n\u001b[0;32m---> 15\u001b[0;31m \u001b[0mdata\u001b[0m\u001b[0;34m=\u001b[0m\u001b[0mreport_vectors\u001b[0m\u001b[0;34m.\u001b[0m\u001b[0mload\u001b[0m\u001b[0;34m(\u001b[0m\u001b[0;34m)\u001b[0m\u001b[0;34m\u001b[0m\u001b[0;34m\u001b[0m\u001b[0m\n\u001b[0m\u001b[1;32m     16\u001b[0m \u001b[0;34m\u001b[0m\u001b[0m\n\u001b[1;32m     17\u001b[0m \u001b[0;31m# Break up the dataset into non-overlapping training (75%) and testing\u001b[0m\u001b[0;34m\u001b[0m\u001b[0;34m\u001b[0m\u001b[0;34m\u001b[0m\u001b[0m\n",
      "\u001b[0;31mAttributeError\u001b[0m: 'list' object has no attribute 'load'"
     ]
    }
   ],
   "source": [
    "import matplotlib as mpl\n",
    "import matplotlib.pyplot as plt\n",
    "\n",
    "import numpy as np\n",
    "\n",
    "import pandas as pd\n",
    "\n",
    "from sklearn import datasets\n",
    "from sklearn import mixture\n",
    "from sklearn.mixture import GaussianMixture\n",
    "from sklearn.model_selection import StratifiedKFold\n",
    "# iris = datasets.load_iris()\n",
    "\n",
    "#dataset=pd.read_csv('ASRS0.csv',sep=',')['CONTENT']\n",
    "data=report_vectors.load()\n",
    "    \n",
    "# Break up the dataset into non-overlapping training (75%) and testing\n",
    "# (25%) sets.\n",
    "skf = StratifiedKFold(n_splits=4)\n",
    "# print(skf)\n",
    "# Only take the first fold.\n",
    "# train_index, test_index = next(iter(skf.split(dataset.data,dataset.target)))\n",
    "\n",
    "#skf.fit(report_vectors)\n",
    "\n",
    "# X_train = dataset.data[train_index]\n",
    "# y_train = dataset.target[train_index]\n",
    "# X_test = dataset.data[test_index]\n",
    "# y_test = dataset.target[test_index]\n",
    "\n",
    "# n_classes = len(np.unique(y_train))\n",
    "\n",
    "# Try GMMs using different types of covariances.\n",
    "#gmm = GaussianMixture(n_components=len(dataset),covariance_type='full', max_iter=20, random_state=0)\n",
    "#gmm.fit(report_vectors)"
   ]
  },
  {
   "cell_type": "markdown",
   "metadata": {},
   "source": [
    "Let's now determine the number of parameters (or check) summoning AIC or BIC."
   ]
  },
  {
   "cell_type": "code",
   "execution_count": null,
   "metadata": {},
   "outputs": [],
   "source": [
    "bic = []\n",
    "n_components_range = range(1, len(report_vectors))\n",
    "cv_types = ['spherical', 'tied', 'diag', 'full']\n",
    "for cv_type in cv_types:\n",
    "    for n_components in n_components_range:\n",
    "        # Fit a Gaussian mixture with EM\n",
    "        gmm = mixture.GaussianMixture(n_components=n_components,covariance_type=cv_type)\n",
    "        gmm.fit([report_vectors])\n",
    "        bic.append(gmm.bic([report_vectors]))\n",
    "        if bic[-1] < lowest_bic:\n",
    "            lowest_bic = bic[-1]\n",
    "            best_gmm = gmm\n",
    "\n",
    "bic = np.array(bic)"
   ]
  },
  {
   "cell_type": "code",
   "execution_count": 94,
   "metadata": {},
   "outputs": [
    {
     "name": "stdout",
     "output_type": "stream",
     "text": [
      "Automatically created module for IPython interactive environment\n"
     ]
    },
    {
     "ename": "AttributeError",
     "evalue": "'str' object has no attribute 'data'",
     "output_type": "error",
     "traceback": [
      "\u001b[0;31m---------------------------------------------------------------------------\u001b[0m",
      "\u001b[0;31mAttributeError\u001b[0m                            Traceback (most recent call last)",
      "\u001b[0;32m<ipython-input-94-697b08e8bd6b>\u001b[0m in \u001b[0;36m<module>\u001b[0;34m\u001b[0m\n\u001b[1;32m     41\u001b[0m \u001b[0mskf\u001b[0m \u001b[0;34m=\u001b[0m \u001b[0mStratifiedKFold\u001b[0m\u001b[0;34m(\u001b[0m\u001b[0mn_splits\u001b[0m\u001b[0;34m=\u001b[0m\u001b[0;36m4\u001b[0m\u001b[0;34m)\u001b[0m\u001b[0;34m\u001b[0m\u001b[0;34m\u001b[0m\u001b[0m\n\u001b[1;32m     42\u001b[0m \u001b[0;31m# Only take the first fold.\u001b[0m\u001b[0;34m\u001b[0m\u001b[0;34m\u001b[0m\u001b[0;34m\u001b[0m\u001b[0m\n\u001b[0;32m---> 43\u001b[0;31m \u001b[0mtrain_index\u001b[0m\u001b[0;34m,\u001b[0m \u001b[0mtest_index\u001b[0m \u001b[0;34m=\u001b[0m \u001b[0mnext\u001b[0m\u001b[0;34m(\u001b[0m\u001b[0miter\u001b[0m\u001b[0;34m(\u001b[0m\u001b[0mskf\u001b[0m\u001b[0;34m.\u001b[0m\u001b[0msplit\u001b[0m\u001b[0;34m(\u001b[0m\u001b[0mdataset\u001b[0m\u001b[0;34m.\u001b[0m\u001b[0mdata\u001b[0m\u001b[0;34m,\u001b[0m \u001b[0mdataset\u001b[0m\u001b[0;34m.\u001b[0m\u001b[0mtarget\u001b[0m\u001b[0;34m)\u001b[0m\u001b[0;34m)\u001b[0m\u001b[0;34m)\u001b[0m\u001b[0;34m\u001b[0m\u001b[0;34m\u001b[0m\u001b[0m\n\u001b[0m\u001b[1;32m     44\u001b[0m \u001b[0;34m\u001b[0m\u001b[0m\n\u001b[1;32m     45\u001b[0m \u001b[0;34m\u001b[0m\u001b[0m\n",
      "\u001b[0;31mAttributeError\u001b[0m: 'str' object has no attribute 'data'"
     ]
    }
   ],
   "source": [
    "import matplotlib as mpl\n",
    "import matplotlib.pyplot as plt\n",
    "\n",
    "import numpy as np\n",
    "\n",
    "from sklearn import datasets\n",
    "from sklearn.mixture import GaussianMixture\n",
    "from sklearn.model_selection import StratifiedKFold\n",
    "\n",
    "print(__doc__)\n",
    "\n",
    "colors = ['navy', 'turquoise', 'darkorange']\n",
    "\n",
    "\n",
    "def make_ellipses(gmm, ax):\n",
    "    for n, color in enumerate(colors):\n",
    "        if gmm.covariance_type == 'full':\n",
    "            covariances = gmm.covariances_[n][:2, :2]\n",
    "        elif gmm.covariance_type == 'tied':\n",
    "            covariances = gmm.covariances_[:2, :2]\n",
    "        elif gmm.covariance_type == 'diag':\n",
    "            covariances = np.diag(gmm.covariances_[n][:2])\n",
    "        elif gmm.covariance_type == 'spherical':\n",
    "            covariances = np.eye(gmm.means_.shape[1]) * gmm.covariances_[n]\n",
    "        v, w = np.linalg.eigh(covariances)\n",
    "        u = w[0] / np.linalg.norm(w[0])\n",
    "        angle = np.arctan2(u[1], u[0])\n",
    "        angle = 180 * angle / np.pi  # convert to degrees\n",
    "        v = 2. * np.sqrt(2.) * np.sqrt(v)\n",
    "        ell = mpl.patches.Ellipse(gmm.means_[n, :2], v[0], v[1],\n",
    "                                  180 + angle, color=color)\n",
    "        ell.set_clip_box(ax.bbox)\n",
    "        ell.set_alpha(0.5)\n",
    "        ax.add_artist(ell)\n",
    "        ax.set_aspect('equal', 'datalim')\n",
    "\n",
    "# iris = datasets.load_iris()\n",
    "dataset = 'ASRS1.csv'\n",
    "# Break up the dataset into non-overlapping training (75%) and testing\n",
    "# (25%) sets.\n",
    "skf = StratifiedKFold(n_splits=4)\n",
    "# Only take the first fold.\n",
    "train_index, test_index = next(iter(skf.split(dataset.data, dataset.target)))\n",
    "\n",
    "\n",
    "X_train = dataset.data[train_index]\n",
    "y_train = dataset.target[train_index]\n",
    "X_test = dataset.data[test_index]\n",
    "y_test = dataset.target[test_index]\n",
    "\n",
    "n_classes = len(np.unique(y_train))\n",
    "\n",
    "# Try GMMs using different types of covariances.\n",
    "estimators = {cov_type: GaussianMixture(n_components=n_classes,\n",
    "              covariance_type=cov_type, max_iter=20, random_state=0)\n",
    "              for cov_type in ['spherical', 'diag', 'tied', 'full']}\n",
    "\n",
    "n_estimators = len(estimators)\n",
    "\n",
    "plt.figure(figsize=(3 * n_estimators // 2, 6))\n",
    "plt.subplots_adjust(bottom=.01, top=0.95, hspace=.15, wspace=.05,\n",
    "                    left=.01, right=.99)\n",
    "\n",
    "\n",
    "for index, (name, estimator) in enumerate(estimators.items()):\n",
    "    # Since we have class labels for the training data, we can\n",
    "    # initialize the GMM parameters in a supervised manner.\n",
    "    estimator.means_init = np.array([X_train[y_train == i].mean(axis=0)\n",
    "                                    for i in range(n_classes)])\n",
    "\n",
    "    # Train the other parameters using the EM algorithm.\n",
    "    estimator.fit(X_train)\n",
    "\n",
    "    h = plt.subplot(2, n_estimators // 2, index + 1)\n",
    "    make_ellipses(estimator, h)\n",
    "\n",
    "    for n, color in enumerate(colors):\n",
    "        data = dataset.data[dataset.target == n]\n",
    "        plt.scatter(data[:, 0], data[:, 1], s=0.8, color=color,\n",
    "                    label=dataset.target_names[n])\n",
    "    # Plot the test data with crosses\n",
    "    for n, color in enumerate(colors):\n",
    "        data = X_test[y_test == n]\n",
    "        plt.scatter(data[:, 0], data[:, 1], marker='x', color=color)\n",
    "\n",
    "    y_train_pred = estimator.predict(X_train)\n",
    "    train_accuracy = np.mean(y_train_pred.ravel() == y_train.ravel()) * 100\n",
    "    plt.text(0.05, 0.9, 'Train accuracy: %.1f' % train_accuracy,\n",
    "             transform=h.transAxes)\n",
    "\n",
    "    y_test_pred = estimator.predict(X_test)\n",
    "    test_accuracy = np.mean(y_test_pred.ravel() == y_test.ravel()) * 100\n",
    "    plt.text(0.05, 0.8, 'Test accuracy: %.1f' % test_accuracy,\n",
    "             transform=h.transAxes)\n",
    "\n",
    "    plt.xticks(())\n",
    "    plt.yticks(())\n",
    "    plt.title(name)\n",
    "\n",
    "plt.legend(scatterpoints=1, loc='lower right', prop=dict(size=12))\n",
    "\n",
    "\n",
    "plt.show()"
   ]
  },
  {
   "cell_type": "code",
   "execution_count": null,
   "metadata": {},
   "outputs": [],
   "source": []
  }
 ],
 "metadata": {
  "kernelspec": {
   "display_name": "Python 3",
   "language": "python",
   "name": "python3"
  },
  "language_info": {
   "codemirror_mode": {
    "name": "ipython",
    "version": 3
   },
   "file_extension": ".py",
   "mimetype": "text/x-python",
   "name": "python",
   "nbconvert_exporter": "python",
   "pygments_lexer": "ipython3",
   "version": "3.7.3"
  }
 },
 "nbformat": 4,
 "nbformat_minor": 4
}
