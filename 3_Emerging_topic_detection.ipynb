{
 "cells": [
  {
   "cell_type": "markdown",
   "metadata": {},
   "source": [
    "# Notebook 3 : Emerging topic detection\n",
    "\n",
    "Began 30 April 2020 by Amaury de Barbuat from ECL\n",
    "\n",
    "Updated by William Riou from ENSTA PARIS"
   ]
  },
  {
   "cell_type": "markdown",
   "metadata": {},
   "source": [
    "# 0- Intro\n",
    "\n",
    "This notebook follows the topic analysis through time notebook which provides data about topics, keywords, and their respective strengths. Here we try to exploit these data to implement an emerging topic detection tool.\n",
    "\n",
    "This notebook has 3 parts :\n",
    "\n",
    "- to define a metric to provide an unique label to each topic through time;\n",
    "\n",
    "- to draw the evolution of a topic's strength through time;\n",
    "\n",
    "- to detect anomalies in a topic's evolution to qualify it as emerging.\n",
    "\n",
    "The hardest part is the first one. Indeed the same topic can be described by closed but different words. As a result different keywords may appear to describe it. Two possible issues for a same topic : either it appears two times in the same window, either it appears differently in consecutive windows. Defining a metric to give topics an unique label will allow us to track them correctly through time."
   ]
  },
  {
   "cell_type": "code",
   "execution_count": 9,
   "metadata": {},
   "outputs": [],
   "source": [
    "import pandas as pd\n",
    "import numpy as np\n",
    "import matplotlib.pyplot as plt\n",
    "import math\n",
    "import time"
   ]
  },
  {
   "cell_type": "markdown",
   "metadata": {},
   "source": [
    "## 1- Fixing label issues"
   ]
  },
  {
   "cell_type": "markdown",
   "metadata": {},
   "source": [
    "### 11- Giving a synthetic label"
   ]
  },
  {
   "cell_type": "code",
   "execution_count": 10,
   "metadata": {},
   "outputs": [],
   "source": [
    "def process_keywords(keywords_row, weights_row):\n",
    "\n",
    "# k0 = hold short;short rwy;rwy hold;taxi rwy;gnd ctl;short runway;short lines;cross rwy\n",
    "# k1 = ['hold', 'short', 'short', 'rwy', 'rwy', 'hold', 'rwy', 'rwy', 'taxi', 'rwy', 'short', 'lines', 'short', 'runway', 'crossed', 'hold']\n",
    "# k2 = ['hold', 'short', 'short', 'rwy', 'rwy', 'hold', 'rwy', 'rwy', 'taxi', 'rwy', 'short', 'lines', 'short', 'runway', 'crossed', 'hold']\n",
    "# k3 = ['hold', 'short', 'rwy', 'taxi', 'lines', 'runway', 'crossed']\n",
    "# w0 = 0.0352;0.0328;0.5452;0.0416;0.0713;0.2182;0.0272;0.0286\n",
    "# w1 = ['0.0373', '0.0373', '0.0686', '0.0686', '0.2007', '0.2007', '0.5596', '0.5596', '0.035', '0.035', '0.0411', '0.0411', '0.0225', '0.0225', '0.0351', '0.0351']\n",
    "# w2 = [0.2731, 0.16949999999999998, 1.4235, 0.035, 0.0411, 0.0225, 0.0351]\n",
    "\n",
    "# k0 : input words\n",
    "# k1 : words splitted in a list\n",
    "# k2 : same but stemmed words\n",
    "# k3 : select one occurence of the same words that may appears multiple times e.g. 'short'\n",
    "# w0 : respective weights for each pair of words\n",
    "# w1 : weights splitted\n",
    "# w2 : weight selection corresponding to k3 final list of words\n",
    "\n",
    "    k0=keywords_row.split(';')\n",
    "    n=len(k0)\n",
    "    for i in range (n):\n",
    "        k0[i]=k0[i].split(' ')\n",
    "    k1=[]\n",
    "    for i in range(n):\n",
    "        k1.append(k0[i][0])\n",
    "        k1.append(k0[i][1])\n",
    "\n",
    "    #from nltk.stem.porter import PorterStemmer\n",
    "    #porter = PorterStemmer()\n",
    "    #k2 = [porter.stem(word) for word in k1]\n",
    "    k2=k1\n",
    "    \n",
    "    k3=[]\n",
    "    for i in k2 : \n",
    "        if i not in k3:\n",
    "            k3.append(i)\n",
    "    \n",
    "    w0=weights_row.split(';')\n",
    "    w1 = []\n",
    "    for i in w0:\n",
    "        w1.extend([i, i])\n",
    "\n",
    "    w2=[]\n",
    "    for e in k3:\n",
    "        W=0\n",
    "        for j in range (len(k2)):\n",
    "            if k2[j]==e:\n",
    "                W+=float(w1[j])\n",
    "        w2.append(W)\n",
    "\n",
    "    return k3, w2"
   ]
  },
  {
   "cell_type": "code",
   "execution_count": 11,
   "metadata": {},
   "outputs": [],
   "source": [
    "def select_keywords(k, w, num_words):\n",
    "\n",
    "# keeping the n biggest weights and words associated\n",
    "\n",
    "    if len(k)>num_words:\n",
    "        label=[]\n",
    "        for i in range (num_words):\n",
    "            a=w.index(max(w))\n",
    "            label.append(k[a])\n",
    "            w[a]=0\n",
    "        return label\n",
    "    \n",
    "    else :\n",
    "        return k"
   ]
  },
  {
   "cell_type": "code",
   "execution_count": 12,
   "metadata": {},
   "outputs": [],
   "source": [
    "def topic_labelling(keywords_filename, weights_filename, num_words, output_filename):\n",
    "\n",
    "# running process_keywords() and select_keywords() over the dataframe extracted from Nucleus analysis\n",
    "    \n",
    "    import pandas as pd\n",
    "    \n",
    "    # load columns of keywords and their weights\n",
    "    keywords=pd.read_csv(keywords_filename, sep=';')\n",
    "    weights=pd.read_csv(weights_filename, sep=';')\n",
    "    \n",
    "    # create an empty dataframe with same dimensions\n",
    "    n=len(weights)\n",
    "    periods=list(weights.head())[1:]\n",
    "    topics = pd.DataFrame({}, columns = periods, index = [k for k in range (1, n+1)])\n",
    "    \n",
    "    for period in periods :\n",
    "        E=[]\n",
    "        for i in range (n):\n",
    "            k, w = process_keywords(keywords[period][i], weights[period][i])\n",
    "            label=select_keywords(k, w, num_words)\n",
    "            s=' '\n",
    "            E.append(s.join(label))\n",
    "        topics[period]=E\n",
    "    \n",
    "    topics.to_csv(output_filename, sep=';', header=True, index=True)"
   ]
  },
  {
   "cell_type": "code",
   "execution_count": 13,
   "metadata": {},
   "outputs": [
    {
     "ename": "FileNotFoundError",
     "evalue": "[Errno 2] File keywords.csv does not exist: 'keywords.csv'",
     "output_type": "error",
     "traceback": [
      "\u001b[0;31m---------------------------------------------------------------------------\u001b[0m",
      "\u001b[0;31mFileNotFoundError\u001b[0m                         Traceback (most recent call last)",
      "\u001b[0;32m<ipython-input-13-58a56bfc9184>\u001b[0m in \u001b[0;36m<module>\u001b[0;34m\u001b[0m\n\u001b[0;32m----> 1\u001b[0;31m \u001b[0mtopic_labelling\u001b[0m\u001b[0;34m(\u001b[0m\u001b[0;34m'keywords.csv'\u001b[0m\u001b[0;34m,\u001b[0m \u001b[0;34m'weights.csv'\u001b[0m\u001b[0;34m,\u001b[0m \u001b[0;36m8\u001b[0m\u001b[0;34m,\u001b[0m \u001b[0;34m'topics.csv'\u001b[0m\u001b[0;34m)\u001b[0m\u001b[0;34m\u001b[0m\u001b[0;34m\u001b[0m\u001b[0m\n\u001b[0m",
      "\u001b[0;32m<ipython-input-12-907bdb1fb43b>\u001b[0m in \u001b[0;36mtopic_labelling\u001b[0;34m(keywords_filename, weights_filename, num_words, output_filename)\u001b[0m\n\u001b[1;32m      6\u001b[0m \u001b[0;34m\u001b[0m\u001b[0m\n\u001b[1;32m      7\u001b[0m     \u001b[0;31m# load columns of keywords and their weights\u001b[0m\u001b[0;34m\u001b[0m\u001b[0;34m\u001b[0m\u001b[0;34m\u001b[0m\u001b[0m\n\u001b[0;32m----> 8\u001b[0;31m     \u001b[0mkeywords\u001b[0m\u001b[0;34m=\u001b[0m\u001b[0mpd\u001b[0m\u001b[0;34m.\u001b[0m\u001b[0mread_csv\u001b[0m\u001b[0;34m(\u001b[0m\u001b[0mkeywords_filename\u001b[0m\u001b[0;34m,\u001b[0m \u001b[0msep\u001b[0m\u001b[0;34m=\u001b[0m\u001b[0;34m';'\u001b[0m\u001b[0;34m)\u001b[0m\u001b[0;34m\u001b[0m\u001b[0;34m\u001b[0m\u001b[0m\n\u001b[0m\u001b[1;32m      9\u001b[0m     \u001b[0mweights\u001b[0m\u001b[0;34m=\u001b[0m\u001b[0mpd\u001b[0m\u001b[0;34m.\u001b[0m\u001b[0mread_csv\u001b[0m\u001b[0;34m(\u001b[0m\u001b[0mweights_filename\u001b[0m\u001b[0;34m,\u001b[0m \u001b[0msep\u001b[0m\u001b[0;34m=\u001b[0m\u001b[0;34m';'\u001b[0m\u001b[0;34m)\u001b[0m\u001b[0;34m\u001b[0m\u001b[0;34m\u001b[0m\u001b[0m\n\u001b[1;32m     10\u001b[0m \u001b[0;34m\u001b[0m\u001b[0m\n",
      "\u001b[0;32m~/anaconda3/lib/python3.7/site-packages/pandas/io/parsers.py\u001b[0m in \u001b[0;36mparser_f\u001b[0;34m(filepath_or_buffer, sep, delimiter, header, names, index_col, usecols, squeeze, prefix, mangle_dupe_cols, dtype, engine, converters, true_values, false_values, skipinitialspace, skiprows, skipfooter, nrows, na_values, keep_default_na, na_filter, verbose, skip_blank_lines, parse_dates, infer_datetime_format, keep_date_col, date_parser, dayfirst, cache_dates, iterator, chunksize, compression, thousands, decimal, lineterminator, quotechar, quoting, doublequote, escapechar, comment, encoding, dialect, error_bad_lines, warn_bad_lines, delim_whitespace, low_memory, memory_map, float_precision)\u001b[0m\n\u001b[1;32m    674\u001b[0m         )\n\u001b[1;32m    675\u001b[0m \u001b[0;34m\u001b[0m\u001b[0m\n\u001b[0;32m--> 676\u001b[0;31m         \u001b[0;32mreturn\u001b[0m \u001b[0m_read\u001b[0m\u001b[0;34m(\u001b[0m\u001b[0mfilepath_or_buffer\u001b[0m\u001b[0;34m,\u001b[0m \u001b[0mkwds\u001b[0m\u001b[0;34m)\u001b[0m\u001b[0;34m\u001b[0m\u001b[0;34m\u001b[0m\u001b[0m\n\u001b[0m\u001b[1;32m    677\u001b[0m \u001b[0;34m\u001b[0m\u001b[0m\n\u001b[1;32m    678\u001b[0m     \u001b[0mparser_f\u001b[0m\u001b[0;34m.\u001b[0m\u001b[0m__name__\u001b[0m \u001b[0;34m=\u001b[0m \u001b[0mname\u001b[0m\u001b[0;34m\u001b[0m\u001b[0;34m\u001b[0m\u001b[0m\n",
      "\u001b[0;32m~/anaconda3/lib/python3.7/site-packages/pandas/io/parsers.py\u001b[0m in \u001b[0;36m_read\u001b[0;34m(filepath_or_buffer, kwds)\u001b[0m\n\u001b[1;32m    446\u001b[0m \u001b[0;34m\u001b[0m\u001b[0m\n\u001b[1;32m    447\u001b[0m     \u001b[0;31m# Create the parser.\u001b[0m\u001b[0;34m\u001b[0m\u001b[0;34m\u001b[0m\u001b[0;34m\u001b[0m\u001b[0m\n\u001b[0;32m--> 448\u001b[0;31m     \u001b[0mparser\u001b[0m \u001b[0;34m=\u001b[0m \u001b[0mTextFileReader\u001b[0m\u001b[0;34m(\u001b[0m\u001b[0mfp_or_buf\u001b[0m\u001b[0;34m,\u001b[0m \u001b[0;34m**\u001b[0m\u001b[0mkwds\u001b[0m\u001b[0;34m)\u001b[0m\u001b[0;34m\u001b[0m\u001b[0;34m\u001b[0m\u001b[0m\n\u001b[0m\u001b[1;32m    449\u001b[0m \u001b[0;34m\u001b[0m\u001b[0m\n\u001b[1;32m    450\u001b[0m     \u001b[0;32mif\u001b[0m \u001b[0mchunksize\u001b[0m \u001b[0;32mor\u001b[0m \u001b[0miterator\u001b[0m\u001b[0;34m:\u001b[0m\u001b[0;34m\u001b[0m\u001b[0;34m\u001b[0m\u001b[0m\n",
      "\u001b[0;32m~/anaconda3/lib/python3.7/site-packages/pandas/io/parsers.py\u001b[0m in \u001b[0;36m__init__\u001b[0;34m(self, f, engine, **kwds)\u001b[0m\n\u001b[1;32m    878\u001b[0m             \u001b[0mself\u001b[0m\u001b[0;34m.\u001b[0m\u001b[0moptions\u001b[0m\u001b[0;34m[\u001b[0m\u001b[0;34m\"has_index_names\"\u001b[0m\u001b[0;34m]\u001b[0m \u001b[0;34m=\u001b[0m \u001b[0mkwds\u001b[0m\u001b[0;34m[\u001b[0m\u001b[0;34m\"has_index_names\"\u001b[0m\u001b[0;34m]\u001b[0m\u001b[0;34m\u001b[0m\u001b[0;34m\u001b[0m\u001b[0m\n\u001b[1;32m    879\u001b[0m \u001b[0;34m\u001b[0m\u001b[0m\n\u001b[0;32m--> 880\u001b[0;31m         \u001b[0mself\u001b[0m\u001b[0;34m.\u001b[0m\u001b[0m_make_engine\u001b[0m\u001b[0;34m(\u001b[0m\u001b[0mself\u001b[0m\u001b[0;34m.\u001b[0m\u001b[0mengine\u001b[0m\u001b[0;34m)\u001b[0m\u001b[0;34m\u001b[0m\u001b[0;34m\u001b[0m\u001b[0m\n\u001b[0m\u001b[1;32m    881\u001b[0m \u001b[0;34m\u001b[0m\u001b[0m\n\u001b[1;32m    882\u001b[0m     \u001b[0;32mdef\u001b[0m \u001b[0mclose\u001b[0m\u001b[0;34m(\u001b[0m\u001b[0mself\u001b[0m\u001b[0;34m)\u001b[0m\u001b[0;34m:\u001b[0m\u001b[0;34m\u001b[0m\u001b[0;34m\u001b[0m\u001b[0m\n",
      "\u001b[0;32m~/anaconda3/lib/python3.7/site-packages/pandas/io/parsers.py\u001b[0m in \u001b[0;36m_make_engine\u001b[0;34m(self, engine)\u001b[0m\n\u001b[1;32m   1112\u001b[0m     \u001b[0;32mdef\u001b[0m \u001b[0m_make_engine\u001b[0m\u001b[0;34m(\u001b[0m\u001b[0mself\u001b[0m\u001b[0;34m,\u001b[0m \u001b[0mengine\u001b[0m\u001b[0;34m=\u001b[0m\u001b[0;34m\"c\"\u001b[0m\u001b[0;34m)\u001b[0m\u001b[0;34m:\u001b[0m\u001b[0;34m\u001b[0m\u001b[0;34m\u001b[0m\u001b[0m\n\u001b[1;32m   1113\u001b[0m         \u001b[0;32mif\u001b[0m \u001b[0mengine\u001b[0m \u001b[0;34m==\u001b[0m \u001b[0;34m\"c\"\u001b[0m\u001b[0;34m:\u001b[0m\u001b[0;34m\u001b[0m\u001b[0;34m\u001b[0m\u001b[0m\n\u001b[0;32m-> 1114\u001b[0;31m             \u001b[0mself\u001b[0m\u001b[0;34m.\u001b[0m\u001b[0m_engine\u001b[0m \u001b[0;34m=\u001b[0m \u001b[0mCParserWrapper\u001b[0m\u001b[0;34m(\u001b[0m\u001b[0mself\u001b[0m\u001b[0;34m.\u001b[0m\u001b[0mf\u001b[0m\u001b[0;34m,\u001b[0m \u001b[0;34m**\u001b[0m\u001b[0mself\u001b[0m\u001b[0;34m.\u001b[0m\u001b[0moptions\u001b[0m\u001b[0;34m)\u001b[0m\u001b[0;34m\u001b[0m\u001b[0;34m\u001b[0m\u001b[0m\n\u001b[0m\u001b[1;32m   1115\u001b[0m         \u001b[0;32melse\u001b[0m\u001b[0;34m:\u001b[0m\u001b[0;34m\u001b[0m\u001b[0;34m\u001b[0m\u001b[0m\n\u001b[1;32m   1116\u001b[0m             \u001b[0;32mif\u001b[0m \u001b[0mengine\u001b[0m \u001b[0;34m==\u001b[0m \u001b[0;34m\"python\"\u001b[0m\u001b[0;34m:\u001b[0m\u001b[0;34m\u001b[0m\u001b[0;34m\u001b[0m\u001b[0m\n",
      "\u001b[0;32m~/anaconda3/lib/python3.7/site-packages/pandas/io/parsers.py\u001b[0m in \u001b[0;36m__init__\u001b[0;34m(self, src, **kwds)\u001b[0m\n\u001b[1;32m   1889\u001b[0m         \u001b[0mkwds\u001b[0m\u001b[0;34m[\u001b[0m\u001b[0;34m\"usecols\"\u001b[0m\u001b[0;34m]\u001b[0m \u001b[0;34m=\u001b[0m \u001b[0mself\u001b[0m\u001b[0;34m.\u001b[0m\u001b[0musecols\u001b[0m\u001b[0;34m\u001b[0m\u001b[0;34m\u001b[0m\u001b[0m\n\u001b[1;32m   1890\u001b[0m \u001b[0;34m\u001b[0m\u001b[0m\n\u001b[0;32m-> 1891\u001b[0;31m         \u001b[0mself\u001b[0m\u001b[0;34m.\u001b[0m\u001b[0m_reader\u001b[0m \u001b[0;34m=\u001b[0m \u001b[0mparsers\u001b[0m\u001b[0;34m.\u001b[0m\u001b[0mTextReader\u001b[0m\u001b[0;34m(\u001b[0m\u001b[0msrc\u001b[0m\u001b[0;34m,\u001b[0m \u001b[0;34m**\u001b[0m\u001b[0mkwds\u001b[0m\u001b[0;34m)\u001b[0m\u001b[0;34m\u001b[0m\u001b[0;34m\u001b[0m\u001b[0m\n\u001b[0m\u001b[1;32m   1892\u001b[0m         \u001b[0mself\u001b[0m\u001b[0;34m.\u001b[0m\u001b[0munnamed_cols\u001b[0m \u001b[0;34m=\u001b[0m \u001b[0mself\u001b[0m\u001b[0;34m.\u001b[0m\u001b[0m_reader\u001b[0m\u001b[0;34m.\u001b[0m\u001b[0munnamed_cols\u001b[0m\u001b[0;34m\u001b[0m\u001b[0;34m\u001b[0m\u001b[0m\n\u001b[1;32m   1893\u001b[0m \u001b[0;34m\u001b[0m\u001b[0m\n",
      "\u001b[0;32mpandas/_libs/parsers.pyx\u001b[0m in \u001b[0;36mpandas._libs.parsers.TextReader.__cinit__\u001b[0;34m()\u001b[0m\n",
      "\u001b[0;32mpandas/_libs/parsers.pyx\u001b[0m in \u001b[0;36mpandas._libs.parsers.TextReader._setup_parser_source\u001b[0;34m()\u001b[0m\n",
      "\u001b[0;31mFileNotFoundError\u001b[0m: [Errno 2] File keywords.csv does not exist: 'keywords.csv'"
     ]
    }
   ],
   "source": [
    "topic_labelling('Keywords.csv', 'Weights.csv', 8, 'topics.csv')"
   ]
  },
  {
   "cell_type": "markdown",
   "metadata": {},
   "source": [
    "### 12- Fixing intra-column issues"
   ]
  },
  {
   "cell_type": "code",
   "execution_count": 6,
   "metadata": {},
   "outputs": [],
   "source": [
    "def intra_col(topics_filename, strength_filename, topics_output, strength_output):\n",
    "    import pandas as pd\n",
    "    topics=pd.read_csv(topics_filename, sep=';')\n",
    "    strength=pd.read_csv(strength_filename, sep=';')\n",
    "\n",
    "    n=len(topics)\n",
    "    periods=list(topics.head())[1:]\n",
    "    new_topics=pd.DataFrame({}, columns = periods, index = [k for k in range (1, n+1)])\n",
    "    new_strength=pd.DataFrame({}, columns = periods, index = [k for k in range (1, n+1)])\n",
    "    \n",
    "    for period in periods :\n",
    "        \n",
    "        L=list(topics[period]) # L=['hold short apch', 'visual land clear', ...]\n",
    "        M=list(strength[period]) # M=['0.2', '0.35', ...]\n",
    "        T=[]\n",
    "        S=[]\n",
    "        s=' '\n",
    "        for l in L: # l='hold short apch'\n",
    "            m=l.split() # m=['hold', 'short', 'apch']\n",
    "            c=0\n",
    "            for j in range(len(T)):\n",
    "                sim_score=0\n",
    "                U=[]\n",
    "                for e in m:\n",
    "                    if e in T[j]:\n",
    "                        sim_score+=1\n",
    "                    #else:\n",
    "                        #U.append(e)\n",
    "                if len(T[j])<len(m):\n",
    "                    sim_score=sim_score/(len(T[j]))\n",
    "                else:\n",
    "                    sim_score=sim_score/len(m)\n",
    "                if sim_score >= 0.4:\n",
    "                    S[j]+=M[L.index(l)]\n",
    "                    #T[j]+=s.join(U)\n",
    "                    c=c+1\n",
    "                    \n",
    "            if c==0:\n",
    "                T.append(s.join(m))\n",
    "                S.append(M[L.index(l)])\n",
    "        \n",
    "        \n",
    "        p = len(L)-len(T)\n",
    "        if p>0:\n",
    "            T=T+[None]*p\n",
    "            S=S+[0]*p\n",
    "\n",
    "        new_topics[period]=T\n",
    "        new_strength[period]=S\n",
    "\n",
    "    new_topics.to_csv(topics_output, sep=';', header=True, index=True)\n",
    "    new_strength.to_csv(strength_output, sep=';', header=True, index=True)"
   ]
  },
  {
   "cell_type": "code",
   "execution_count": 7,
   "metadata": {},
   "outputs": [
    {
     "ename": "FileNotFoundError",
     "evalue": "[Errno 2] File topics.csv does not exist: 'topics.csv'",
     "output_type": "error",
     "traceback": [
      "\u001b[0;31m---------------------------------------------------------------------------\u001b[0m",
      "\u001b[0;31mFileNotFoundError\u001b[0m                         Traceback (most recent call last)",
      "\u001b[0;32m<ipython-input-7-ce3b14f667c3>\u001b[0m in \u001b[0;36m<module>\u001b[0;34m\u001b[0m\n\u001b[0;32m----> 1\u001b[0;31m \u001b[0mintra_col\u001b[0m\u001b[0;34m(\u001b[0m\u001b[0;34m'topics.csv'\u001b[0m\u001b[0;34m,\u001b[0m \u001b[0;34m'strength.csv'\u001b[0m\u001b[0;34m,\u001b[0m\u001b[0;34m'temp_topics.csv'\u001b[0m\u001b[0;34m,\u001b[0m \u001b[0;34m'temp_strength.csv'\u001b[0m\u001b[0;34m)\u001b[0m\u001b[0;34m\u001b[0m\u001b[0;34m\u001b[0m\u001b[0m\n\u001b[0m",
      "\u001b[0;32m<ipython-input-6-b72f6c51aeb8>\u001b[0m in \u001b[0;36mintra_col\u001b[0;34m(topics_filename, strength_filename, topics_output, strength_output)\u001b[0m\n\u001b[1;32m      1\u001b[0m \u001b[0;32mdef\u001b[0m \u001b[0mintra_col\u001b[0m\u001b[0;34m(\u001b[0m\u001b[0mtopics_filename\u001b[0m\u001b[0;34m,\u001b[0m \u001b[0mstrength_filename\u001b[0m\u001b[0;34m,\u001b[0m \u001b[0mtopics_output\u001b[0m\u001b[0;34m,\u001b[0m \u001b[0mstrength_output\u001b[0m\u001b[0;34m)\u001b[0m\u001b[0;34m:\u001b[0m\u001b[0;34m\u001b[0m\u001b[0;34m\u001b[0m\u001b[0m\n\u001b[1;32m      2\u001b[0m     \u001b[0;32mimport\u001b[0m \u001b[0mpandas\u001b[0m \u001b[0;32mas\u001b[0m \u001b[0mpd\u001b[0m\u001b[0;34m\u001b[0m\u001b[0;34m\u001b[0m\u001b[0m\n\u001b[0;32m----> 3\u001b[0;31m     \u001b[0mtopics\u001b[0m\u001b[0;34m=\u001b[0m\u001b[0mpd\u001b[0m\u001b[0;34m.\u001b[0m\u001b[0mread_csv\u001b[0m\u001b[0;34m(\u001b[0m\u001b[0mtopics_filename\u001b[0m\u001b[0;34m,\u001b[0m \u001b[0msep\u001b[0m\u001b[0;34m=\u001b[0m\u001b[0;34m';'\u001b[0m\u001b[0;34m)\u001b[0m\u001b[0;34m\u001b[0m\u001b[0;34m\u001b[0m\u001b[0m\n\u001b[0m\u001b[1;32m      4\u001b[0m     \u001b[0mstrength\u001b[0m\u001b[0;34m=\u001b[0m\u001b[0mpd\u001b[0m\u001b[0;34m.\u001b[0m\u001b[0mread_csv\u001b[0m\u001b[0;34m(\u001b[0m\u001b[0mstrength_filename\u001b[0m\u001b[0;34m,\u001b[0m \u001b[0msep\u001b[0m\u001b[0;34m=\u001b[0m\u001b[0;34m';'\u001b[0m\u001b[0;34m)\u001b[0m\u001b[0;34m\u001b[0m\u001b[0;34m\u001b[0m\u001b[0m\n\u001b[1;32m      5\u001b[0m \u001b[0;34m\u001b[0m\u001b[0m\n",
      "\u001b[0;32m~/anaconda3/lib/python3.7/site-packages/pandas/io/parsers.py\u001b[0m in \u001b[0;36mparser_f\u001b[0;34m(filepath_or_buffer, sep, delimiter, header, names, index_col, usecols, squeeze, prefix, mangle_dupe_cols, dtype, engine, converters, true_values, false_values, skipinitialspace, skiprows, skipfooter, nrows, na_values, keep_default_na, na_filter, verbose, skip_blank_lines, parse_dates, infer_datetime_format, keep_date_col, date_parser, dayfirst, cache_dates, iterator, chunksize, compression, thousands, decimal, lineterminator, quotechar, quoting, doublequote, escapechar, comment, encoding, dialect, error_bad_lines, warn_bad_lines, delim_whitespace, low_memory, memory_map, float_precision)\u001b[0m\n\u001b[1;32m    674\u001b[0m         )\n\u001b[1;32m    675\u001b[0m \u001b[0;34m\u001b[0m\u001b[0m\n\u001b[0;32m--> 676\u001b[0;31m         \u001b[0;32mreturn\u001b[0m \u001b[0m_read\u001b[0m\u001b[0;34m(\u001b[0m\u001b[0mfilepath_or_buffer\u001b[0m\u001b[0;34m,\u001b[0m \u001b[0mkwds\u001b[0m\u001b[0;34m)\u001b[0m\u001b[0;34m\u001b[0m\u001b[0;34m\u001b[0m\u001b[0m\n\u001b[0m\u001b[1;32m    677\u001b[0m \u001b[0;34m\u001b[0m\u001b[0m\n\u001b[1;32m    678\u001b[0m     \u001b[0mparser_f\u001b[0m\u001b[0;34m.\u001b[0m\u001b[0m__name__\u001b[0m \u001b[0;34m=\u001b[0m \u001b[0mname\u001b[0m\u001b[0;34m\u001b[0m\u001b[0;34m\u001b[0m\u001b[0m\n",
      "\u001b[0;32m~/anaconda3/lib/python3.7/site-packages/pandas/io/parsers.py\u001b[0m in \u001b[0;36m_read\u001b[0;34m(filepath_or_buffer, kwds)\u001b[0m\n\u001b[1;32m    446\u001b[0m \u001b[0;34m\u001b[0m\u001b[0m\n\u001b[1;32m    447\u001b[0m     \u001b[0;31m# Create the parser.\u001b[0m\u001b[0;34m\u001b[0m\u001b[0;34m\u001b[0m\u001b[0;34m\u001b[0m\u001b[0m\n\u001b[0;32m--> 448\u001b[0;31m     \u001b[0mparser\u001b[0m \u001b[0;34m=\u001b[0m \u001b[0mTextFileReader\u001b[0m\u001b[0;34m(\u001b[0m\u001b[0mfp_or_buf\u001b[0m\u001b[0;34m,\u001b[0m \u001b[0;34m**\u001b[0m\u001b[0mkwds\u001b[0m\u001b[0;34m)\u001b[0m\u001b[0;34m\u001b[0m\u001b[0;34m\u001b[0m\u001b[0m\n\u001b[0m\u001b[1;32m    449\u001b[0m \u001b[0;34m\u001b[0m\u001b[0m\n\u001b[1;32m    450\u001b[0m     \u001b[0;32mif\u001b[0m \u001b[0mchunksize\u001b[0m \u001b[0;32mor\u001b[0m \u001b[0miterator\u001b[0m\u001b[0;34m:\u001b[0m\u001b[0;34m\u001b[0m\u001b[0;34m\u001b[0m\u001b[0m\n",
      "\u001b[0;32m~/anaconda3/lib/python3.7/site-packages/pandas/io/parsers.py\u001b[0m in \u001b[0;36m__init__\u001b[0;34m(self, f, engine, **kwds)\u001b[0m\n\u001b[1;32m    878\u001b[0m             \u001b[0mself\u001b[0m\u001b[0;34m.\u001b[0m\u001b[0moptions\u001b[0m\u001b[0;34m[\u001b[0m\u001b[0;34m\"has_index_names\"\u001b[0m\u001b[0;34m]\u001b[0m \u001b[0;34m=\u001b[0m \u001b[0mkwds\u001b[0m\u001b[0;34m[\u001b[0m\u001b[0;34m\"has_index_names\"\u001b[0m\u001b[0;34m]\u001b[0m\u001b[0;34m\u001b[0m\u001b[0;34m\u001b[0m\u001b[0m\n\u001b[1;32m    879\u001b[0m \u001b[0;34m\u001b[0m\u001b[0m\n\u001b[0;32m--> 880\u001b[0;31m         \u001b[0mself\u001b[0m\u001b[0;34m.\u001b[0m\u001b[0m_make_engine\u001b[0m\u001b[0;34m(\u001b[0m\u001b[0mself\u001b[0m\u001b[0;34m.\u001b[0m\u001b[0mengine\u001b[0m\u001b[0;34m)\u001b[0m\u001b[0;34m\u001b[0m\u001b[0;34m\u001b[0m\u001b[0m\n\u001b[0m\u001b[1;32m    881\u001b[0m \u001b[0;34m\u001b[0m\u001b[0m\n\u001b[1;32m    882\u001b[0m     \u001b[0;32mdef\u001b[0m \u001b[0mclose\u001b[0m\u001b[0;34m(\u001b[0m\u001b[0mself\u001b[0m\u001b[0;34m)\u001b[0m\u001b[0;34m:\u001b[0m\u001b[0;34m\u001b[0m\u001b[0;34m\u001b[0m\u001b[0m\n",
      "\u001b[0;32m~/anaconda3/lib/python3.7/site-packages/pandas/io/parsers.py\u001b[0m in \u001b[0;36m_make_engine\u001b[0;34m(self, engine)\u001b[0m\n\u001b[1;32m   1112\u001b[0m     \u001b[0;32mdef\u001b[0m \u001b[0m_make_engine\u001b[0m\u001b[0;34m(\u001b[0m\u001b[0mself\u001b[0m\u001b[0;34m,\u001b[0m \u001b[0mengine\u001b[0m\u001b[0;34m=\u001b[0m\u001b[0;34m\"c\"\u001b[0m\u001b[0;34m)\u001b[0m\u001b[0;34m:\u001b[0m\u001b[0;34m\u001b[0m\u001b[0;34m\u001b[0m\u001b[0m\n\u001b[1;32m   1113\u001b[0m         \u001b[0;32mif\u001b[0m \u001b[0mengine\u001b[0m \u001b[0;34m==\u001b[0m \u001b[0;34m\"c\"\u001b[0m\u001b[0;34m:\u001b[0m\u001b[0;34m\u001b[0m\u001b[0;34m\u001b[0m\u001b[0m\n\u001b[0;32m-> 1114\u001b[0;31m             \u001b[0mself\u001b[0m\u001b[0;34m.\u001b[0m\u001b[0m_engine\u001b[0m \u001b[0;34m=\u001b[0m \u001b[0mCParserWrapper\u001b[0m\u001b[0;34m(\u001b[0m\u001b[0mself\u001b[0m\u001b[0;34m.\u001b[0m\u001b[0mf\u001b[0m\u001b[0;34m,\u001b[0m \u001b[0;34m**\u001b[0m\u001b[0mself\u001b[0m\u001b[0;34m.\u001b[0m\u001b[0moptions\u001b[0m\u001b[0;34m)\u001b[0m\u001b[0;34m\u001b[0m\u001b[0;34m\u001b[0m\u001b[0m\n\u001b[0m\u001b[1;32m   1115\u001b[0m         \u001b[0;32melse\u001b[0m\u001b[0;34m:\u001b[0m\u001b[0;34m\u001b[0m\u001b[0;34m\u001b[0m\u001b[0m\n\u001b[1;32m   1116\u001b[0m             \u001b[0;32mif\u001b[0m \u001b[0mengine\u001b[0m \u001b[0;34m==\u001b[0m \u001b[0;34m\"python\"\u001b[0m\u001b[0;34m:\u001b[0m\u001b[0;34m\u001b[0m\u001b[0;34m\u001b[0m\u001b[0m\n",
      "\u001b[0;32m~/anaconda3/lib/python3.7/site-packages/pandas/io/parsers.py\u001b[0m in \u001b[0;36m__init__\u001b[0;34m(self, src, **kwds)\u001b[0m\n\u001b[1;32m   1889\u001b[0m         \u001b[0mkwds\u001b[0m\u001b[0;34m[\u001b[0m\u001b[0;34m\"usecols\"\u001b[0m\u001b[0;34m]\u001b[0m \u001b[0;34m=\u001b[0m \u001b[0mself\u001b[0m\u001b[0;34m.\u001b[0m\u001b[0musecols\u001b[0m\u001b[0;34m\u001b[0m\u001b[0;34m\u001b[0m\u001b[0m\n\u001b[1;32m   1890\u001b[0m \u001b[0;34m\u001b[0m\u001b[0m\n\u001b[0;32m-> 1891\u001b[0;31m         \u001b[0mself\u001b[0m\u001b[0;34m.\u001b[0m\u001b[0m_reader\u001b[0m \u001b[0;34m=\u001b[0m \u001b[0mparsers\u001b[0m\u001b[0;34m.\u001b[0m\u001b[0mTextReader\u001b[0m\u001b[0;34m(\u001b[0m\u001b[0msrc\u001b[0m\u001b[0;34m,\u001b[0m \u001b[0;34m**\u001b[0m\u001b[0mkwds\u001b[0m\u001b[0;34m)\u001b[0m\u001b[0;34m\u001b[0m\u001b[0;34m\u001b[0m\u001b[0m\n\u001b[0m\u001b[1;32m   1892\u001b[0m         \u001b[0mself\u001b[0m\u001b[0;34m.\u001b[0m\u001b[0munnamed_cols\u001b[0m \u001b[0;34m=\u001b[0m \u001b[0mself\u001b[0m\u001b[0;34m.\u001b[0m\u001b[0m_reader\u001b[0m\u001b[0;34m.\u001b[0m\u001b[0munnamed_cols\u001b[0m\u001b[0;34m\u001b[0m\u001b[0;34m\u001b[0m\u001b[0m\n\u001b[1;32m   1893\u001b[0m \u001b[0;34m\u001b[0m\u001b[0m\n",
      "\u001b[0;32mpandas/_libs/parsers.pyx\u001b[0m in \u001b[0;36mpandas._libs.parsers.TextReader.__cinit__\u001b[0;34m()\u001b[0m\n",
      "\u001b[0;32mpandas/_libs/parsers.pyx\u001b[0m in \u001b[0;36mpandas._libs.parsers.TextReader._setup_parser_source\u001b[0;34m()\u001b[0m\n",
      "\u001b[0;31mFileNotFoundError\u001b[0m: [Errno 2] File topics.csv does not exist: 'topics.csv'"
     ]
    }
   ],
   "source": [
    "intra_col('topics.csv', 'strength.csv','temp_topics.csv', 'temp_strength.csv')"
   ]
  },
  {
   "cell_type": "markdown",
   "metadata": {},
   "source": [
    "### 13- Fixing inter-column issues"
   ]
  },
  {
   "cell_type": "code",
   "execution_count": 5,
   "metadata": {},
   "outputs": [],
   "source": [
    "def sim_score(L,M):\n",
    "    S=0\n",
    "    for e in L:\n",
    "        if e in M:\n",
    "            S=S+1\n",
    "    if S>0:\n",
    "        if len(L)<len(M):\n",
    "            S=S/len(L)\n",
    "        else:\n",
    "            S=S/len(M)\n",
    "    return S"
   ]
  },
  {
   "cell_type": "code",
   "execution_count": 6,
   "metadata": {},
   "outputs": [],
   "source": [
    "def is_in_df(value, dataframe):\n",
    "    c=0\n",
    "    for col in dataframe.columns:\n",
    "        if value in list(dataframe[col]):\n",
    "            c=c+1\n",
    "            break\n",
    "    if c>0:\n",
    "        return True\n",
    "    else:\n",
    "        return False"
   ]
  },
  {
   "cell_type": "code",
   "execution_count": 7,
   "metadata": {},
   "outputs": [],
   "source": [
    "def inter_col(temp_topics, temp_strength, final_topics, final_strength):\n",
    "    \n",
    "    import pandas as pd\n",
    "\n",
    "    temp_topics=pd.read_csv(tem_topics, sep=';')\n",
    "    temp_strength=pd.read_csv(temp_strength, sep=';')\n",
    "\n",
    "    periods=list(temp_topics.head())[1:]\n",
    "\n",
    "    final_topics=pd.DataFrame({}, columns = periods)\n",
    "    final_strength=pd.DataFrame({}, columns = periods)\n",
    "\n",
    "    m=len(periods)\n",
    "    n=len(temp_topics)\n",
    "    s=' '\n",
    "\n",
    "    for period in periods:\n",
    "\n",
    "        new_periods=periods.copy()\n",
    "        new_periods.remove(period)\n",
    "        indp=periods.index(period)\n",
    "\n",
    "        for t in temp_topics[period]:\n",
    "\n",
    "            if type(t) == str :\n",
    "\n",
    "                if is_in_df(t, final_topics) == True:\n",
    "                    continue\n",
    "\n",
    "                indt=list(temp_topics[period]).index(t)\n",
    "                t=t.split() # t=['hold', 'short']\n",
    "\n",
    "                T=[]\n",
    "                S=[]\n",
    "                c=0\n",
    "                d=0\n",
    "\n",
    "                for p in new_periods:\n",
    "\n",
    "                    if c==indp:\n",
    "                        S.append(temp_strength[period][indt])\n",
    "                        T.append(s.join(t))\n",
    "                        d=d+1\n",
    "\n",
    "                    b=False\n",
    "\n",
    "                    for t2 in temp_topics[p]:\n",
    "\n",
    "                        if type(t2) == str:\n",
    "\n",
    "                            if is_in_df(t2, final_topics) == True:\n",
    "                                continue\n",
    "\n",
    "                            indt2=list(temp_topics[p]).index(t2)\n",
    "                            t2=t2.split()\n",
    "\n",
    "                            if sim_score(t,t2) >= 0.5:\n",
    "                                T.append(s.join(t2))\n",
    "                                S.append(temp_strength[p][indt2])\n",
    "                                b=True\n",
    "                                break\n",
    "\n",
    "                    if b==False :\n",
    "                        T.append(None)\n",
    "                        S.append(0)\n",
    "\n",
    "                    c=c+1\n",
    "\n",
    "                if d==0:\n",
    "                    S.append(temp_strength[period][indt])\n",
    "                    T.append(s.join(t))\n",
    "\n",
    "\n",
    "                dft=pd.DataFrame([T], columns=periods)\n",
    "                dfs=pd.DataFrame([S], columns=periods)\n",
    "                final_topics=final_topics.append(dft, ignore_index = True)\n",
    "                final_strength=final_strength.append(dfs, ignore_index = True)\n",
    "\n",
    "    final_topics.to_csv(final_topics, sep=';', header=True, index=True)\n",
    "    final_strength.to_csv(final_strength, sep=';', header=True, index=True)"
   ]
  },
  {
   "cell_type": "code",
   "execution_count": 11,
   "metadata": {},
   "outputs": [
    {
     "ename": "NameError",
     "evalue": "name 'tem_topics' is not defined",
     "output_type": "error",
     "traceback": [
      "\u001b[0;31m---------------------------------------------------------------------------\u001b[0m",
      "\u001b[0;31mNameError\u001b[0m                                 Traceback (most recent call last)",
      "\u001b[0;32m<ipython-input-11-6acabb4fa8e5>\u001b[0m in \u001b[0;36m<module>\u001b[0;34m\u001b[0m\n\u001b[0;32m----> 1\u001b[0;31m \u001b[0minter_col\u001b[0m\u001b[0;34m(\u001b[0m\u001b[0;34m'temp_topics.csv'\u001b[0m\u001b[0;34m,\u001b[0m \u001b[0;34m'temp_strength.csv'\u001b[0m\u001b[0;34m,\u001b[0m \u001b[0;34m'final_topics.csv'\u001b[0m\u001b[0;34m,\u001b[0m \u001b[0;34m'final_strength.csv'\u001b[0m\u001b[0;34m)\u001b[0m\u001b[0;34m\u001b[0m\u001b[0;34m\u001b[0m\u001b[0m\n\u001b[0m",
      "\u001b[0;32m<ipython-input-10-4370797c3d26>\u001b[0m in \u001b[0;36minter_col\u001b[0;34m(temp_topics, temp_strength, final_topics, final_strength)\u001b[0m\n\u001b[1;32m      3\u001b[0m     \u001b[0;32mimport\u001b[0m \u001b[0mpandas\u001b[0m \u001b[0;32mas\u001b[0m \u001b[0mpd\u001b[0m\u001b[0;34m\u001b[0m\u001b[0;34m\u001b[0m\u001b[0m\n\u001b[1;32m      4\u001b[0m \u001b[0;34m\u001b[0m\u001b[0m\n\u001b[0;32m----> 5\u001b[0;31m     \u001b[0mtemp_topics\u001b[0m\u001b[0;34m=\u001b[0m\u001b[0mpd\u001b[0m\u001b[0;34m.\u001b[0m\u001b[0mread_csv\u001b[0m\u001b[0;34m(\u001b[0m\u001b[0mtem_topics\u001b[0m\u001b[0;34m,\u001b[0m \u001b[0msep\u001b[0m\u001b[0;34m=\u001b[0m\u001b[0;34m';'\u001b[0m\u001b[0;34m)\u001b[0m\u001b[0;34m\u001b[0m\u001b[0;34m\u001b[0m\u001b[0m\n\u001b[0m\u001b[1;32m      6\u001b[0m     \u001b[0mtemp_strength\u001b[0m\u001b[0;34m=\u001b[0m\u001b[0mpd\u001b[0m\u001b[0;34m.\u001b[0m\u001b[0mread_csv\u001b[0m\u001b[0;34m(\u001b[0m\u001b[0mtemp_strength\u001b[0m\u001b[0;34m,\u001b[0m \u001b[0msep\u001b[0m\u001b[0;34m=\u001b[0m\u001b[0;34m';'\u001b[0m\u001b[0;34m)\u001b[0m\u001b[0;34m\u001b[0m\u001b[0;34m\u001b[0m\u001b[0m\n\u001b[1;32m      7\u001b[0m \u001b[0;34m\u001b[0m\u001b[0m\n",
      "\u001b[0;31mNameError\u001b[0m: name 'tem_topics' is not defined"
     ]
    }
   ],
   "source": [
    "inter_col('temp_topics.csv', 'temp_strength.csv', 'final_topics.csv', 'final_strength.csv')"
   ]
  },
  {
   "cell_type": "markdown",
   "metadata": {},
   "source": [
    "## 2- Detecting emerging topics"
   ]
  },
  {
   "cell_type": "markdown",
   "metadata": {},
   "source": [
    "### 21- Plotting a specific topic"
   ]
  },
  {
   "cell_type": "code",
   "execution_count": 8,
   "metadata": {},
   "outputs": [],
   "source": [
    "def get_words(data_filename, topic_number):\n",
    "    import pandas as pd\n",
    "    data=pd.read_csv(data_filename, sep=';')\n",
    "    X=list(data.loc[topic_number])[1:]\n",
    "    print(X)"
   ]
  },
  {
   "cell_type": "code",
   "execution_count": 13,
   "metadata": {},
   "outputs": [
    {
     "name": "stdout",
     "output_type": "stream",
     "text": [
      "['eicas message edge leading trailing flap wing slat', nan, 'light illuminated edge eicas message trailing leading flap', 'edge light illuminated eicas message trailing leading flap', 'eicas message edge leading trailing flap wing slat', 'edge trailing leading flap devices slat transit light', 'eicas message edge leading light caution illuminated slat', 'edge flap leading trailing engine start slat devices', nan, 'leading edge trailing flap flaps slat wing devices', 'leading edge trailing flap flaps slat devices wing', nan, 'edge flaps leading eicas slat message engine start', nan, 'message illuminated engine start leading edge eicas appeared', nan, nan, 'edge slat leading trailing thrust reverser flap flaps', 'leading edge trailing flap flaps slat devices wing', 'eicas message maintenance manual light leading edge assigned', 'message appeared disagree eicas engine leading edge flap', 'leading edge trailing slat flap devices flaps wing', nan, 'leading edge trailing slat devices wing flaps flap']\n"
     ]
    }
   ],
   "source": [
    "get_words('final_topics.csv', 10)"
   ]
  },
  {
   "cell_type": "code",
   "execution_count": 14,
   "metadata": {},
   "outputs": [],
   "source": [
    "def plot_topic(data_filename, topic_number):\n",
    "    \n",
    "    import pandas as pd\n",
    "    data=pd.read_csv(data_filename, sep=';')\n",
    "    X=list(data.loc[topic_number])[1:]\n",
    "\n",
    "    import matplotlib.pyplot as plt\n",
    "    plt.plot(X)\n",
    "    plt.ylabel(\"Strength (/1)\")\n",
    "    plt.xlabel(\"Periods (2 months)\")\n",
    "    plt.show()"
   ]
  },
  {
   "cell_type": "code",
   "execution_count": 15,
   "metadata": {},
   "outputs": [
    {
     "data": {
      "image/png": "[encoded data removed]",
      "text/plain": [
       "<Figure size 432x288 with 1 Axes>"
      ]
     },
     "metadata": {
      "needs_background": "light"
     },
     "output_type": "display_data"
    }
   ],
   "source": [
    "plot_topic('final_strength.csv', 1)"
   ]
  },
  {
   "cell_type": "markdown",
   "metadata": {},
   "source": [
    "### 22- Getting the interval of variations"
   ]
  },
  {
   "cell_type": "code",
   "execution_count": 16,
   "metadata": {},
   "outputs": [],
   "source": [
    "def plot_ampl(filename):\n",
    "    \n",
    "    import pandas as pd\n",
    "    data=pd.read_csv(filename, sep=';')\n",
    "    n=len(data)\n",
    "\n",
    "    Y=[]\n",
    "    for i in range (n):\n",
    "        y=list(data.loc[i])[1:]\n",
    "        y2=[]\n",
    "        for e in y:\n",
    "            if e != 0:\n",
    "                y2.append(e)\n",
    "        if len(y2)>=2:\n",
    "            mean=0\n",
    "            S=0\n",
    "            for e in y2:\n",
    "                mean=mean+e\n",
    "                S=S+1\n",
    "            mean=mean/S\n",
    "            M=max(y2)\n",
    "            m=min(y2)\n",
    "            var=(M-m)/mean\n",
    "            Y.append(var)\n",
    "    \n",
    "    Z=Y.copy()\n",
    "    Z.sort(reverse=True)\n",
    "    print('Smallest amplitude :', Z[-1])\n",
    "    print('Biggest amplitude :', Z[0])\n",
    "    \n",
    "    L=[]\n",
    "    for i in range(len(Y)):\n",
    "        a=Y.index(Z[i])\n",
    "        while a in L:\n",
    "            a=Y.index(Z[i],a+1)\n",
    "        L.append(a)\n",
    "        \n",
    "    #print('Biggest amplitudes :', Z[:3])\n",
    "    #print('Topics corresponding :', L[:3])\n",
    "    print(len(L))\n",
    "\n",
    "    import matplotlib.pyplot as plt\n",
    "    plt.plot(Z)\n",
    "    plt.ylabel(\"Amplitude (%)\")\n",
    "    plt.xlabel(\"Topic\")\n",
    "    plt.show()"
   ]
  },
  {
   "cell_type": "code",
   "execution_count": 17,
   "metadata": {},
   "outputs": [
    {
     "name": "stdout",
     "output_type": "stream",
     "text": [
      "Smallest amplitude : 0.005698005698005663\n",
      "Biggest amplitude : 1.7871093749999998\n",
      "196\n"
     ]
    },
    {
     "data": {
      "image/png": "[encoded data removed]",
      "text/plain": [
       "<Figure size 432x288 with 1 Axes>"
      ]
     },
     "metadata": {
      "needs_background": "light"
     },
     "output_type": "display_data"
    }
   ],
   "source": [
    "plot_ampl('final_strength.csv')"
   ]
  },
  {
   "cell_type": "markdown",
   "metadata": {},
   "source": [
    "### c) detection tool"
   ]
  },
  {
   "cell_type": "code",
   "execution_count": 18,
   "metadata": {},
   "outputs": [],
   "source": [
    "def detect_move(data_filename, topic_number, criteria):\n",
    "    \n",
    "    import pandas as pd\n",
    "    data=pd.read_csv(data_filename, sep=';')\n",
    "    X=list(data.loc[topic_number])[1:]\n",
    "    \n",
    "    X2=[]\n",
    "    for e in X:\n",
    "        if e!=0:\n",
    "            X2.append(e)\n",
    "    \n",
    "    if len(X2)>=5 :\n",
    "        for i in range (1, len(X)):\n",
    "            delta=X[i]-X[i-1]\n",
    "            if delta>criteria:\n",
    "                print('emerging at period ', i)\n",
    "            if delta<-criteria:\n",
    "                print('disapperance at period ', i)\n",
    "    \n",
    "    else :\n",
    "        print('Topic has less than 5 occurences in the timeline')"
   ]
  },
  {
   "cell_type": "code",
   "execution_count": 19,
   "metadata": {},
   "outputs": [
    {
     "name": "stdout",
     "output_type": "stream",
     "text": [
      "emerging at period  3\n",
      "disapperance at period  8\n",
      "emerging at period  9\n",
      "disapperance at period  11\n",
      "emerging at period  12\n",
      "disapperance at period  13\n",
      "emerging at period  15\n",
      "emerging at period  18\n",
      "disapperance at period  19\n"
     ]
    }
   ],
   "source": [
    "detect_move('final_strength.csv', 101, 0.01)"
   ]
  },
  {
   "cell_type": "code",
   "execution_count": 20,
   "metadata": {},
   "outputs": [
    {
     "data": {
      "image/png": "[encoded data removed]",
      "text/plain": [
       "<Figure size 432x288 with 1 Axes>"
      ]
     },
     "metadata": {
      "needs_background": "light"
     },
     "output_type": "display_data"
    }
   ],
   "source": [
    "plot_topic('final_strength.csv', 101)"
   ]
  }
 ],
 "metadata": {
  "kernelspec": {
   "display_name": "Python 3",
   "language": "python",
   "name": "python3"
  },
  "language_info": {
   "codemirror_mode": {
    "name": "ipython",
    "version": 3
   },
   "file_extension": ".py",
   "mimetype": "text/x-python",
   "name": "python",
   "nbconvert_exporter": "python",
   "pygments_lexer": "ipython3",
   "version": "3.7.3"
  }
 },
 "nbformat": 4,
 "nbformat_minor": 4
}
